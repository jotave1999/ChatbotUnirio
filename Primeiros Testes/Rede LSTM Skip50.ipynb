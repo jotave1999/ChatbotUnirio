{
 "cells": [
  {
   "cell_type": "code",
   "execution_count": 1,
   "id": "6d5432f4",
   "metadata": {},
   "outputs": [],
   "source": [
    "import re\n",
    "from keras.preprocessing.text import Tokenizer\n",
    "from keras.preprocessing.sequence import pad_sequences\n",
    "from keras.layers import Embedding, LSTM, Dense, Dropout\n",
    "from keras.models import Sequential\n",
    "from gensim.models import KeyedVectors\n",
    "from sklearn.model_selection import train_test_split\n",
    "from keras.utils.np_utils import to_categorical\n",
    "\n",
    "import numpy as np\n",
    "\n",
    "import pandas as pd\n"
   ]
  },
  {
   "cell_type": "code",
   "execution_count": 2,
   "id": "129910cd",
   "metadata": {},
   "outputs": [],
   "source": [
    "# carregar modelo word2vec\n",
    "word2vec = KeyedVectors.load_word2vec_format('skip_s50.txt')\n",
    "vocab_size, embedding_size = word2vec.vectors.shape"
   ]
  },
  {
   "cell_type": "code",
   "execution_count": 3,
   "id": "9862a9cb",
   "metadata": {},
   "outputs": [],
   "source": [
    "# carregar dados de treinamento do CSV\n",
    "df = pd.read_csv('train.csv', header=None, names=['texto', 'classe'])\n",
    "X = df['texto'].values\n",
    "y = df['classe'].values"
   ]
  },
  {
   "cell_type": "code",
   "execution_count": 4,
   "id": "68ccc686",
   "metadata": {},
   "outputs": [],
   "source": [
    "# tokenizar o texto\n",
    "tokenizer = Tokenizer(num_words=vocab_size)\n",
    "tokenizer.fit_on_texts(X)\n",
    "X = tokenizer.texts_to_sequences(X)\n",
    "\n",
    "# padronizar o tamanho das sequencias\n",
    "max_length = max([len(text) for text in X])\n",
    "X = pad_sequences(X, maxlen=max_length, padding='post')"
   ]
  },
  {
   "cell_type": "code",
   "execution_count": 5,
   "id": "d02324b2",
   "metadata": {},
   "outputs": [],
   "source": [
    "# construir modelo\n",
    "model = Sequential()\n",
    "model.add(Embedding(vocab_size, embedding_size, weights=[word2vec.vectors], input_length=max_length, trainable=False))\n",
    "model.add(LSTM(128, return_sequences=True))\n",
    "model.add(Dropout(0.2))\n",
    "model.add(LSTM(64))\n",
    "model.add(Dropout(0.2))\n",
    "model.add(Dense(7, activation='softmax'))"
   ]
  },
  {
   "cell_type": "code",
   "execution_count": 6,
   "id": "8409e978",
   "metadata": {},
   "outputs": [],
   "source": [
    "# compilar modelo\n",
    "model.compile(loss='categorical_crossentropy', optimizer='adam', metrics=['accuracy'])"
   ]
  },
  {
   "cell_type": "code",
   "execution_count": 7,
   "id": "df01c2fc",
   "metadata": {},
   "outputs": [],
   "source": [
    "# separar dados em treinamento e validação\n",
    "X_train, X_val, y_train, y_val = train_test_split(X, y, test_size=0.2, random_state=42)\n",
    "y_train = to_categorical(y_train, 7)\n",
    "y_val = to_categorical(y_val, 7)"
   ]
  },
  {
   "cell_type": "code",
   "execution_count": 8,
   "id": "6e675df9",
   "metadata": {},
   "outputs": [
    {
     "name": "stdout",
     "output_type": "stream",
     "text": [
      "Epoch 1/10\n",
      "26/26 [==============================] - 4s 35ms/step - loss: 1.6761 - accuracy: 0.4273 - val_loss: 1.1352 - val_accuracy: 0.5172\n",
      "Epoch 2/10\n",
      "26/26 [==============================] - 0s 11ms/step - loss: 0.8168 - accuracy: 0.7094 - val_loss: 0.5782 - val_accuracy: 0.7685\n",
      "Epoch 3/10\n",
      "26/26 [==============================] - 0s 11ms/step - loss: 0.4126 - accuracy: 0.8645 - val_loss: 0.5688 - val_accuracy: 0.7833\n",
      "Epoch 4/10\n",
      "26/26 [==============================] - 0s 11ms/step - loss: 0.3163 - accuracy: 0.9002 - val_loss: 0.3187 - val_accuracy: 0.9015\n",
      "Epoch 5/10\n",
      "26/26 [==============================] - 0s 12ms/step - loss: 0.2170 - accuracy: 0.9384 - val_loss: 0.2431 - val_accuracy: 0.9163\n",
      "Epoch 6/10\n",
      "26/26 [==============================] - 0s 12ms/step - loss: 0.1793 - accuracy: 0.9409 - val_loss: 0.3110 - val_accuracy: 0.9015\n",
      "Epoch 7/10\n",
      "26/26 [==============================] - 0s 12ms/step - loss: 0.1083 - accuracy: 0.9606 - val_loss: 0.2500 - val_accuracy: 0.9310\n",
      "Epoch 8/10\n",
      "26/26 [==============================] - 0s 11ms/step - loss: 0.0708 - accuracy: 0.9766 - val_loss: 0.2873 - val_accuracy: 0.9212\n",
      "Epoch 9/10\n",
      "26/26 [==============================] - 0s 11ms/step - loss: 0.0985 - accuracy: 0.9766 - val_loss: 0.3078 - val_accuracy: 0.9163\n",
      "Epoch 10/10\n",
      "26/26 [==============================] - 0s 12ms/step - loss: 0.0785 - accuracy: 0.9729 - val_loss: 0.2349 - val_accuracy: 0.9409\n"
     ]
    },
    {
     "data": {
      "text/plain": [
       "<keras.callbacks.History at 0x20110dc1188>"
      ]
     },
     "execution_count": 8,
     "metadata": {},
     "output_type": "execute_result"
    }
   ],
   "source": [
    "# treinar modelo\n",
    "model.fit(X_train, y_train, epochs=10, batch_size=32, validation_data=(X_val, y_val))"
   ]
  },
  {
   "cell_type": "code",
   "execution_count": null,
   "id": "fc6d6902",
   "metadata": {},
   "outputs": [],
   "source": []
  }
 ],
 "metadata": {
  "kernelspec": {
   "display_name": "Python 3 (ipykernel)",
   "language": "python",
   "name": "python3"
  },
  "language_info": {
   "codemirror_mode": {
    "name": "ipython",
    "version": 3
   },
   "file_extension": ".py",
   "mimetype": "text/x-python",
   "name": "python",
   "nbconvert_exporter": "python",
   "pygments_lexer": "ipython3",
   "version": "3.9.13"
  }
 },
 "nbformat": 4,
 "nbformat_minor": 5
}
