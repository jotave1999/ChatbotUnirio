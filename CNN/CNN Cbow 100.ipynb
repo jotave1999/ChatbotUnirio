{
 "cells": [
  {
   "cell_type": "code",
   "execution_count": 4,
   "id": "1c11de07",
   "metadata": {},
   "outputs": [],
   "source": [
    "import re\n",
    "from keras.preprocessing.text import Tokenizer\n",
    "from keras.preprocessing.sequence import pad_sequences\n",
    "from keras.layers import Embedding, Dense, Dropout, Input, Flatten, Conv1D, MaxPooling1D, Embedding, Dropout\n",
    "from keras.models import Sequential, Model\n",
    "from gensim.models import KeyedVectors\n",
    "from sklearn.model_selection import train_test_split\n",
    "from keras.utils.np_utils import to_categorical\n",
    "from keras.callbacks import EarlyStopping\n",
    "\n",
    "\n",
    "import numpy as np\n",
    "\n",
    "import pandas as pd\n"
   ]
  },
  {
   "cell_type": "code",
   "execution_count": 5,
   "id": "fb648619",
   "metadata": {},
   "outputs": [],
   "source": [
    "# carregar modelo word2vec\n",
    "word2vec = KeyedVectors.load_word2vec_format('../cbow_s100.txt')\n",
    "vocab_size, embedding_size = word2vec.vectors.shape"
   ]
  },
  {
   "cell_type": "code",
   "execution_count": 6,
   "id": "21ffbad8",
   "metadata": {},
   "outputs": [],
   "source": [
    "# carregar dados de treinamento do CSV\n",
    "df = pd.read_csv('../train.csv', header=None, names=['texto', 'classe'])\n",
    "X = df['texto'].values\n",
    "y = df['classe'].values"
   ]
  },
  {
   "cell_type": "code",
   "execution_count": 7,
   "id": "44115ecd",
   "metadata": {},
   "outputs": [],
   "source": [
    "# tokenizar o texto\n",
    "tokenizer = Tokenizer(num_words=vocab_size)\n",
    "tokenizer.fit_on_texts(X)\n",
    "X = tokenizer.texts_to_sequences(X)\n",
    "\n",
    "# padronizar o tamanho das sequencias\n",
    "max_length = max([len(text) for text in X])\n",
    "X = pad_sequences(X, maxlen=max_length, padding='post')"
   ]
  },
  {
   "cell_type": "code",
   "execution_count": 21,
   "id": "6b0cf8fa",
   "metadata": {
    "scrolled": false
   },
   "outputs": [
    {
     "name": "stdout",
     "output_type": "stream",
     "text": [
      "Simplified convolutional neural network\n",
      "Model: \"model_1\"\n",
      "_________________________________________________________________\n",
      "Layer (type)                 Output Shape              Param #   \n",
      "=================================================================\n",
      "input_14 (InputLayer)        [(None, 18)]              0         \n",
      "_________________________________________________________________\n",
      "embedding_13 (Embedding)     (None, 18, 100)           92960600  \n",
      "_________________________________________________________________\n",
      "conv1d_26 (Conv1D)           (None, 13, 128)           76928     \n",
      "_________________________________________________________________\n",
      "max_pooling1d_21 (MaxPooling (None, 2, 128)            0         \n",
      "_________________________________________________________________\n",
      "conv1d_27 (Conv1D)           (None, 1, 128)            32896     \n",
      "_________________________________________________________________\n",
      "max_pooling1d_22 (MaxPooling (None, 1, 128)            0         \n",
      "_________________________________________________________________\n",
      "flatten_2 (Flatten)          (None, 128)               0         \n",
      "_________________________________________________________________\n",
      "dense_2 (Dense)              (None, 128)               16512     \n",
      "_________________________________________________________________\n",
      "dense_3 (Dense)              (None, 7)                 903       \n",
      "=================================================================\n",
      "Total params: 93,087,839\n",
      "Trainable params: 127,239\n",
      "Non-trainable params: 92,960,600\n",
      "_________________________________________________________________\n"
     ]
    }
   ],
   "source": [
    "embedding_layer = Embedding(vocab_size, embedding_size, weights=[word2vec.vectors], input_length=max_length, trainable=False)\n",
    "sequence_input = Input(shape=(max_length,), dtype='int32')\n",
    "embedded_sequences = embedding_layer(sequence_input)\n",
    "l_cov1= Conv1D(128, 6, activation='relu')(embedded_sequences)\n",
    "l_pool1 = MaxPooling1D(6)(l_cov1)\n",
    "l_cov2 = Conv1D(128, 2, activation='relu')(l_pool1)\n",
    "l_pool2 = MaxPooling1D(1)(l_cov2)\n",
    "l_flat = Flatten()(l_pool2)\n",
    "l_dense = Dense(128, activation='relu')(l_flat)\n",
    "preds = Dense(7, activation='softmax')(l_dense)\n",
    "\n",
    "model = Model(sequence_input, preds)\n",
    "model.compile(loss='categorical_crossentropy',\n",
    "              optimizer='rmsprop',\n",
    "              metrics=['acc'])\n",
    "\n",
    "print(\"Simplified convolutional neural network\")\n",
    "model.summary()\n"
   ]
  },
  {
   "cell_type": "code",
   "execution_count": 22,
   "id": "90d38eac",
   "metadata": {},
   "outputs": [],
   "source": [
    "# separar dados em treinamento e validação\n",
    "X_train, X_val, y_train, y_val = train_test_split(X, y, test_size=0.2, random_state=42)\n",
    "y_train = to_categorical(y_train, 7)\n",
    "y_val = to_categorical(y_val, 7)"
   ]
  },
  {
   "cell_type": "code",
   "execution_count": 23,
   "id": "508edf96",
   "metadata": {},
   "outputs": [],
   "source": [
    "early_stopping_monitor = EarlyStopping(\n",
    "    monitor='val_loss',\n",
    "    min_delta=0,\n",
    "    patience=7,\n",
    "    verbose=0,\n",
    "    mode='auto',\n",
    "    baseline=None,\n",
    "    restore_best_weights=True\n",
    ")"
   ]
  },
  {
   "cell_type": "code",
   "execution_count": 24,
   "id": "b84fd728",
   "metadata": {},
   "outputs": [
    {
     "name": "stdout",
     "output_type": "stream",
     "text": [
      "Epoch 1/30\n",
      "26/26 [==============================] - 1s 9ms/step - loss: 0.9612 - acc: 0.7709 - val_loss: 0.3452 - val_acc: 0.9606\n",
      "Epoch 2/30\n",
      "26/26 [==============================] - 0s 3ms/step - loss: 0.1667 - acc: 0.9778 - val_loss: 0.2043 - val_acc: 0.9507\n",
      "Epoch 3/30\n",
      "26/26 [==============================] - 0s 3ms/step - loss: 0.0539 - acc: 0.9914 - val_loss: 0.1189 - val_acc: 0.9704\n",
      "Epoch 4/30\n",
      "26/26 [==============================] - 0s 3ms/step - loss: 0.0337 - acc: 0.9951 - val_loss: 0.1500 - val_acc: 0.9557\n",
      "Epoch 5/30\n",
      "26/26 [==============================] - 0s 3ms/step - loss: 0.0273 - acc: 0.9951 - val_loss: 0.1502 - val_acc: 0.9557\n",
      "Epoch 6/30\n",
      "26/26 [==============================] - 0s 2ms/step - loss: 0.0293 - acc: 0.9963 - val_loss: 0.1530 - val_acc: 0.9655\n",
      "Epoch 7/30\n",
      "26/26 [==============================] - 0s 3ms/step - loss: 0.0157 - acc: 0.9975 - val_loss: 0.1964 - val_acc: 0.9655\n",
      "Epoch 8/30\n",
      "26/26 [==============================] - 0s 3ms/step - loss: 0.0038 - acc: 0.9988 - val_loss: 0.1651 - val_acc: 0.9704\n",
      "Epoch 9/30\n",
      "26/26 [==============================] - 0s 3ms/step - loss: 0.0191 - acc: 0.9963 - val_loss: 0.2214 - val_acc: 0.9655\n",
      "Epoch 10/30\n",
      "26/26 [==============================] - 0s 3ms/step - loss: 0.0196 - acc: 0.9975 - val_loss: 0.1874 - val_acc: 0.9655\n"
     ]
    },
    {
     "data": {
      "text/plain": [
       "<keras.callbacks.History at 0x25a5676e548>"
      ]
     },
     "execution_count": 24,
     "metadata": {},
     "output_type": "execute_result"
    }
   ],
   "source": [
    "# treinar modelo\n",
    "model.fit(X_train, y_train, epochs=30, batch_size=32, validation_data=(X_val, y_val), callbacks=[early_stopping_monitor])"
   ]
  }
 ],
 "metadata": {
  "kernelspec": {
   "display_name": "Python 3 (ipykernel)",
   "language": "python",
   "name": "python3"
  },
  "language_info": {
   "codemirror_mode": {
    "name": "ipython",
    "version": 3
   },
   "file_extension": ".py",
   "mimetype": "text/x-python",
   "name": "python",
   "nbconvert_exporter": "python",
   "pygments_lexer": "ipython3",
   "version": "3.7.15"
  }
 },
 "nbformat": 4,
 "nbformat_minor": 5
}
