{
 "cells": [
  {
   "cell_type": "code",
   "execution_count": 1,
   "id": "1c11de07",
   "metadata": {},
   "outputs": [],
   "source": [
    "import re\n",
    "from keras.preprocessing.text import Tokenizer\n",
    "from keras.preprocessing.sequence import pad_sequences\n",
    "from keras.layers import Embedding, Dense, Dropout, Input, Flatten, Conv1D, MaxPooling1D, Embedding, Dropout\n",
    "from keras.models import Sequential, Model\n",
    "from gensim.models import KeyedVectors\n",
    "from sklearn.model_selection import train_test_split\n",
    "from keras.utils.np_utils import to_categorical\n",
    "from keras.callbacks import EarlyStopping\n",
    "\n",
    "\n",
    "import numpy as np\n",
    "\n",
    "import pandas as pd\n"
   ]
  },
  {
   "cell_type": "code",
   "execution_count": 2,
   "id": "fb648619",
   "metadata": {},
   "outputs": [],
   "source": [
    "# carregar modelo word2vec\n",
    "word2vec = KeyedVectors.load_word2vec_format('../skip_s100.txt')\n",
    "vocab_size, embedding_size = word2vec.vectors.shape"
   ]
  },
  {
   "cell_type": "code",
   "execution_count": 3,
   "id": "21ffbad8",
   "metadata": {},
   "outputs": [],
   "source": [
    "# carregar dados de treinamento do CSV\n",
    "df = pd.read_csv('../train.csv', header=None, names=['texto', 'classe'])\n",
    "X = df['texto'].values\n",
    "y = df['classe'].values"
   ]
  },
  {
   "cell_type": "code",
   "execution_count": 4,
   "id": "44115ecd",
   "metadata": {},
   "outputs": [],
   "source": [
    "# tokenizar o texto\n",
    "tokenizer = Tokenizer(num_words=vocab_size)\n",
    "tokenizer.fit_on_texts(X)\n",
    "X = tokenizer.texts_to_sequences(X)\n",
    "\n",
    "# padronizar o tamanho das sequencias\n",
    "max_length = max([len(text) for text in X])\n",
    "X = pad_sequences(X, maxlen=max_length, padding='post')"
   ]
  },
  {
   "cell_type": "code",
   "execution_count": 5,
   "id": "6b0cf8fa",
   "metadata": {
    "scrolled": false
   },
   "outputs": [
    {
     "name": "stdout",
     "output_type": "stream",
     "text": [
      "Simplified convolutional neural network\n",
      "Model: \"model\"\n",
      "_________________________________________________________________\n",
      "Layer (type)                 Output Shape              Param #   \n",
      "=================================================================\n",
      "input_1 (InputLayer)         [(None, 18)]              0         \n",
      "_________________________________________________________________\n",
      "embedding (Embedding)        (None, 18, 100)           92960600  \n",
      "_________________________________________________________________\n",
      "conv1d (Conv1D)              (None, 13, 128)           76928     \n",
      "_________________________________________________________________\n",
      "max_pooling1d (MaxPooling1D) (None, 2, 128)            0         \n",
      "_________________________________________________________________\n",
      "conv1d_1 (Conv1D)            (None, 1, 128)            32896     \n",
      "_________________________________________________________________\n",
      "max_pooling1d_1 (MaxPooling1 (None, 1, 128)            0         \n",
      "_________________________________________________________________\n",
      "flatten (Flatten)            (None, 128)               0         \n",
      "_________________________________________________________________\n",
      "dense (Dense)                (None, 128)               16512     \n",
      "_________________________________________________________________\n",
      "dense_1 (Dense)              (None, 7)                 903       \n",
      "=================================================================\n",
      "Total params: 93,087,839\n",
      "Trainable params: 127,239\n",
      "Non-trainable params: 92,960,600\n",
      "_________________________________________________________________\n"
     ]
    }
   ],
   "source": [
    "embedding_layer = Embedding(vocab_size, embedding_size, weights=[word2vec.vectors], input_length=max_length, trainable=False)\n",
    "sequence_input = Input(shape=(max_length,), dtype='int32')\n",
    "embedded_sequences = embedding_layer(sequence_input)\n",
    "l_cov1= Conv1D(128, 6, activation='relu')(embedded_sequences)\n",
    "l_pool1 = MaxPooling1D(6)(l_cov1)\n",
    "l_cov2 = Conv1D(128, 2, activation='relu')(l_pool1)\n",
    "l_pool2 = MaxPooling1D(1)(l_cov2)\n",
    "l_flat = Flatten()(l_pool2)\n",
    "l_dense = Dense(128, activation='relu')(l_flat)\n",
    "preds = Dense(7, activation='softmax')(l_dense)\n",
    "\n",
    "model = Model(sequence_input, preds)\n",
    "model.compile(loss='categorical_crossentropy',\n",
    "              optimizer='rmsprop',\n",
    "              metrics=['acc'])\n",
    "\n",
    "print(\"Simplified convolutional neural network\")\n",
    "model.summary()\n"
   ]
  },
  {
   "cell_type": "code",
   "execution_count": 6,
   "id": "90d38eac",
   "metadata": {},
   "outputs": [],
   "source": [
    "# separar dados em treinamento e validação\n",
    "X_train, X_val, y_train, y_val = train_test_split(X, y, test_size=0.2, random_state=42)\n",
    "y_train = to_categorical(y_train, 7)\n",
    "y_val = to_categorical(y_val, 7)"
   ]
  },
  {
   "cell_type": "code",
   "execution_count": 7,
   "id": "508edf96",
   "metadata": {},
   "outputs": [],
   "source": [
    "early_stopping_monitor = EarlyStopping(\n",
    "    monitor='val_loss',\n",
    "    min_delta=0,\n",
    "    patience=7,\n",
    "    verbose=0,\n",
    "    mode='auto',\n",
    "    baseline=None,\n",
    "    restore_best_weights=True\n",
    ")"
   ]
  },
  {
   "cell_type": "code",
   "execution_count": 8,
   "id": "b84fd728",
   "metadata": {},
   "outputs": [
    {
     "name": "stdout",
     "output_type": "stream",
     "text": [
      "Epoch 1/30\n",
      "26/26 [==============================] - 1s 9ms/step - loss: 1.0957 - acc: 0.7562 - val_loss: 0.4062 - val_acc: 0.9261\n",
      "Epoch 2/30\n",
      "26/26 [==============================] - 0s 2ms/step - loss: 0.2079 - acc: 0.9606 - val_loss: 0.1774 - val_acc: 0.9655\n",
      "Epoch 3/30\n",
      "26/26 [==============================] - 0s 2ms/step - loss: 0.0774 - acc: 0.9815 - val_loss: 0.1288 - val_acc: 0.9754\n",
      "Epoch 4/30\n",
      "26/26 [==============================] - 0s 2ms/step - loss: 0.0424 - acc: 0.9877 - val_loss: 0.0859 - val_acc: 0.9852\n",
      "Epoch 5/30\n",
      "26/26 [==============================] - 0s 2ms/step - loss: 0.0211 - acc: 0.9963 - val_loss: 0.1007 - val_acc: 0.9655\n",
      "Epoch 6/30\n",
      "26/26 [==============================] - 0s 2ms/step - loss: 0.0065 - acc: 0.9988 - val_loss: 0.1209 - val_acc: 0.9655\n",
      "Epoch 7/30\n",
      "26/26 [==============================] - 0s 2ms/step - loss: 0.0223 - acc: 0.9926 - val_loss: 0.1247 - val_acc: 0.9704\n",
      "Epoch 8/30\n",
      "26/26 [==============================] - 0s 2ms/step - loss: 0.0104 - acc: 0.9988 - val_loss: 0.1157 - val_acc: 0.9754\n",
      "Epoch 9/30\n",
      "26/26 [==============================] - 0s 2ms/step - loss: 0.0082 - acc: 0.9988 - val_loss: 0.4790 - val_acc: 0.8867\n",
      "Epoch 10/30\n",
      "26/26 [==============================] - 0s 2ms/step - loss: 0.0156 - acc: 0.9963 - val_loss: 0.1046 - val_acc: 0.9754\n",
      "Epoch 11/30\n",
      "26/26 [==============================] - 0s 2ms/step - loss: 0.0220 - acc: 0.9951 - val_loss: 0.1602 - val_acc: 0.9704\n"
     ]
    },
    {
     "data": {
      "text/plain": [
       "<keras.callbacks.History at 0x225e1f51fc8>"
      ]
     },
     "execution_count": 8,
     "metadata": {},
     "output_type": "execute_result"
    }
   ],
   "source": [
    "# treinar modelo\n",
    "model.fit(X_train, y_train, epochs=30, batch_size=32, validation_data=(X_val, y_val), callbacks=[early_stopping_monitor])"
   ]
  }
 ],
 "metadata": {
  "kernelspec": {
   "display_name": "Python 3 (ipykernel)",
   "language": "python",
   "name": "python3"
  },
  "language_info": {
   "codemirror_mode": {
    "name": "ipython",
    "version": 3
   },
   "file_extension": ".py",
   "mimetype": "text/x-python",
   "name": "python",
   "nbconvert_exporter": "python",
   "pygments_lexer": "ipython3",
   "version": "3.7.15"
  }
 },
 "nbformat": 4,
 "nbformat_minor": 5
}
