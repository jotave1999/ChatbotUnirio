{
 "cells": [
  {
   "cell_type": "code",
   "execution_count": 3,
   "id": "1c11de07",
   "metadata": {},
   "outputs": [],
   "source": [
    "import re\n",
    "from keras.preprocessing.text import Tokenizer\n",
    "from keras.preprocessing.sequence import pad_sequences\n",
    "from keras.layers import Embedding, Dense, Dropout, Input, Flatten, Conv1D, MaxPooling1D, Embedding, Dropout, LSTM\n",
    "from keras.models import Sequential, Model\n",
    "from gensim.models import KeyedVectors\n",
    "from sklearn.model_selection import train_test_split\n",
    "from keras.utils.np_utils import to_categorical\n",
    "from keras.callbacks import EarlyStopping\n",
    "\n",
    "\n",
    "import numpy as np\n",
    "\n",
    "import pandas as pd\n"
   ]
  },
  {
   "cell_type": "code",
   "execution_count": 4,
   "id": "fb648619",
   "metadata": {},
   "outputs": [],
   "source": [
    "# carregar modelo word2vec\n",
    "word2vec = KeyedVectors.load_word2vec_format('../cbow_s50.txt')\n",
    "vocab_size, embedding_size = word2vec.vectors.shape"
   ]
  },
  {
   "cell_type": "code",
   "execution_count": 5,
   "id": "21ffbad8",
   "metadata": {},
   "outputs": [],
   "source": [
    "# carregar dados de treinamento do CSV\n",
    "df = pd.read_csv('../train.csv', header=None, names=['texto', 'classe'])\n",
    "X = df['texto'].values\n",
    "y = df['classe'].values"
   ]
  },
  {
   "cell_type": "code",
   "execution_count": 6,
   "id": "44115ecd",
   "metadata": {},
   "outputs": [],
   "source": [
    "# tokenizar o texto\n",
    "tokenizer = Tokenizer(num_words=vocab_size)\n",
    "tokenizer.fit_on_texts(X)\n",
    "X = tokenizer.texts_to_sequences(X)\n",
    "\n",
    "# padronizar o tamanho das sequencias\n",
    "max_length = max([len(text) for text in X])\n",
    "X = pad_sequences(X, maxlen=max_length, padding='post')"
   ]
  },
  {
   "cell_type": "code",
   "execution_count": 21,
   "id": "91c07b50",
   "metadata": {},
   "outputs": [
    {
     "name": "stdout",
     "output_type": "stream",
     "text": [
      "Simplified convolutional neural network\n",
      "Model: \"model_3\"\n",
      "_________________________________________________________________\n",
      "Layer (type)                 Output Shape              Param #   \n",
      "=================================================================\n",
      "input_6 (InputLayer)         [(None, 18)]              0         \n",
      "_________________________________________________________________\n",
      "embedding_7 (Embedding)      (None, 18, 50)            46480250  \n",
      "_________________________________________________________________\n",
      "conv1d_14 (Conv1D)           (None, 16, 32)            4832      \n",
      "_________________________________________________________________\n",
      "max_pooling1d_14 (MaxPooling (None, 8, 32)             0         \n",
      "_________________________________________________________________\n",
      "conv1d_15 (Conv1D)           (None, 6, 64)             6208      \n",
      "_________________________________________________________________\n",
      "max_pooling1d_15 (MaxPooling (None, 3, 64)             0         \n",
      "_________________________________________________________________\n",
      "lstm_7 (LSTM)                (None, 64)                33024     \n",
      "_________________________________________________________________\n",
      "dense_6 (Dense)              (None, 7)                 455       \n",
      "=================================================================\n",
      "Total params: 46,524,769\n",
      "Trainable params: 44,519\n",
      "Non-trainable params: 46,480,250\n",
      "_________________________________________________________________\n"
     ]
    }
   ],
   "source": [
    "embedding_layer = Embedding(vocab_size, embedding_size, weights=[word2vec.vectors], input_length=max_length, trainable=False)\n",
    "sequence_input = Input(shape=(max_length,), dtype='int32')\n",
    "embedded_sequences = embedding_layer(sequence_input)\n",
    "conv_layer1 = Conv1D(filters=32, kernel_size=3, activation='relu')(embedded_sequences)\n",
    "conv_layer1 = MaxPooling1D(pool_size=2)(conv_layer1)\n",
    "conv_layer2 = Conv1D(filters=64, kernel_size=3, activation='relu')(conv_layer1)\n",
    "conv_layer2 = MaxPooling1D(pool_size=2)(conv_layer2)\n",
    "lstm_layer = LSTM(64)(conv_layer2)\n",
    "output_layer = Dense(7, activation='softmax')(lstm_layer)\n",
    "\n",
    "model = Model(sequence_input, output_layer)\n",
    "model.compile(loss='categorical_crossentropy',\n",
    "              optimizer='rmsprop',\n",
    "              metrics=['acc'])\n",
    "\n",
    "print(\"Simplified convolutional neural network\")\n",
    "model.summary()\n"
   ]
  },
  {
   "cell_type": "code",
   "execution_count": 18,
   "id": "90d38eac",
   "metadata": {},
   "outputs": [],
   "source": [
    "# separar dados em treinamento e validação\n",
    "X_train, X_val, y_train, y_val = train_test_split(X, y, test_size=0.2, random_state=42)\n",
    "y_train = to_categorical(y_train, 7)\n",
    "y_val = to_categorical(y_val, 7)"
   ]
  },
  {
   "cell_type": "code",
   "execution_count": 19,
   "id": "508edf96",
   "metadata": {},
   "outputs": [],
   "source": [
    "early_stopping_monitor = EarlyStopping(\n",
    "    monitor='val_loss',\n",
    "    min_delta=0,\n",
    "    patience=7,\n",
    "    verbose=0,\n",
    "    mode='auto',\n",
    "    baseline=None,\n",
    "    restore_best_weights=True\n",
    ")"
   ]
  },
  {
   "cell_type": "code",
   "execution_count": 22,
   "id": "b84fd728",
   "metadata": {},
   "outputs": [
    {
     "name": "stdout",
     "output_type": "stream",
     "text": [
      "Epoch 1/30\n",
      "26/26 [==============================] - 2s 19ms/step - loss: 1.2980 - acc: 0.6133 - val_loss: 0.7291 - val_acc: 0.7734\n",
      "Epoch 2/30\n",
      "26/26 [==============================] - 0s 3ms/step - loss: 0.4423 - acc: 0.9039 - val_loss: 0.3410 - val_acc: 0.9113\n",
      "Epoch 3/30\n",
      "26/26 [==============================] - 0s 3ms/step - loss: 0.2255 - acc: 0.9458 - val_loss: 0.2508 - val_acc: 0.9360\n",
      "Epoch 4/30\n",
      "26/26 [==============================] - 0s 3ms/step - loss: 0.1186 - acc: 0.9692 - val_loss: 0.1998 - val_acc: 0.9458\n",
      "Epoch 5/30\n",
      "26/26 [==============================] - 0s 3ms/step - loss: 0.0960 - acc: 0.9803 - val_loss: 0.1729 - val_acc: 0.9360\n",
      "Epoch 6/30\n",
      "26/26 [==============================] - 0s 3ms/step - loss: 0.0557 - acc: 0.9828 - val_loss: 0.3037 - val_acc: 0.8916\n",
      "Epoch 7/30\n",
      "26/26 [==============================] - 0s 4ms/step - loss: 0.0368 - acc: 0.9901 - val_loss: 0.1232 - val_acc: 0.9557\n",
      "Epoch 8/30\n",
      "26/26 [==============================] - 0s 3ms/step - loss: 0.0254 - acc: 0.9926 - val_loss: 0.1253 - val_acc: 0.9606\n",
      "Epoch 9/30\n",
      "26/26 [==============================] - 0s 3ms/step - loss: 0.0216 - acc: 0.9938 - val_loss: 0.1349 - val_acc: 0.9557\n",
      "Epoch 10/30\n",
      "26/26 [==============================] - 0s 3ms/step - loss: 0.0066 - acc: 0.9975 - val_loss: 0.1357 - val_acc: 0.9557\n",
      "Epoch 11/30\n",
      "26/26 [==============================] - 0s 3ms/step - loss: 0.0114 - acc: 0.9963 - val_loss: 0.3235 - val_acc: 0.9015\n",
      "Epoch 12/30\n",
      "26/26 [==============================] - 0s 3ms/step - loss: 0.0120 - acc: 0.9951 - val_loss: 0.1496 - val_acc: 0.9507\n",
      "Epoch 13/30\n",
      "26/26 [==============================] - 0s 3ms/step - loss: 0.0098 - acc: 0.9963 - val_loss: 0.1561 - val_acc: 0.9557\n",
      "Epoch 14/30\n",
      "26/26 [==============================] - 0s 3ms/step - loss: 0.0048 - acc: 0.9988 - val_loss: 0.1353 - val_acc: 0.9606\n"
     ]
    },
    {
     "data": {
      "text/plain": [
       "<keras.callbacks.History at 0x1bafe3ac548>"
      ]
     },
     "execution_count": 22,
     "metadata": {},
     "output_type": "execute_result"
    }
   ],
   "source": [
    "# treinar modelo\n",
    "model.fit(X_train, y_train, epochs=30, batch_size=32, validation_data=(X_val, y_val), callbacks=[early_stopping_monitor])"
   ]
  }
 ],
 "metadata": {
  "kernelspec": {
   "display_name": "Python 3 (ipykernel)",
   "language": "python",
   "name": "python3"
  },
  "language_info": {
   "codemirror_mode": {
    "name": "ipython",
    "version": 3
   },
   "file_extension": ".py",
   "mimetype": "text/x-python",
   "name": "python",
   "nbconvert_exporter": "python",
   "pygments_lexer": "ipython3",
   "version": "3.7.15"
  }
 },
 "nbformat": 4,
 "nbformat_minor": 5
}
