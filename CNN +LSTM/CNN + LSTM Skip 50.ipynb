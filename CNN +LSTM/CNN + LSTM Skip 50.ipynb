{
 "cells": [
  {
   "cell_type": "code",
   "execution_count": 1,
   "id": "1c11de07",
   "metadata": {},
   "outputs": [],
   "source": [
    "import re\n",
    "from keras.preprocessing.text import Tokenizer\n",
    "from keras.preprocessing.sequence import pad_sequences\n",
    "from keras.layers import Embedding, Dense, Dropout, Input, Flatten, Conv1D, MaxPooling1D, Embedding, Dropout, LSTM\n",
    "from keras.models import Sequential, Model\n",
    "from gensim.models import KeyedVectors\n",
    "from sklearn.model_selection import train_test_split\n",
    "from keras.utils.np_utils import to_categorical\n",
    "from keras.callbacks import EarlyStopping\n",
    "\n",
    "\n",
    "import numpy as np\n",
    "\n",
    "import pandas as pd\n"
   ]
  },
  {
   "cell_type": "code",
   "execution_count": 2,
   "id": "fb648619",
   "metadata": {},
   "outputs": [],
   "source": [
    "# carregar modelo word2vec\n",
    "word2vec = KeyedVectors.load_word2vec_format('../skip_s50.txt')\n",
    "vocab_size, embedding_size = word2vec.vectors.shape"
   ]
  },
  {
   "cell_type": "code",
   "execution_count": 3,
   "id": "21ffbad8",
   "metadata": {},
   "outputs": [],
   "source": [
    "# carregar dados de treinamento do CSV\n",
    "df = pd.read_csv('../train.csv', header=None, names=['texto', 'classe'])\n",
    "X = df['texto'].values\n",
    "y = df['classe'].values"
   ]
  },
  {
   "cell_type": "code",
   "execution_count": 4,
   "id": "44115ecd",
   "metadata": {},
   "outputs": [],
   "source": [
    "# tokenizar o texto\n",
    "tokenizer = Tokenizer(num_words=vocab_size)\n",
    "tokenizer.fit_on_texts(X)\n",
    "X = tokenizer.texts_to_sequences(X)\n",
    "\n",
    "# padronizar o tamanho das sequencias\n",
    "max_length = max([len(text) for text in X])\n",
    "X = pad_sequences(X, maxlen=max_length, padding='post')"
   ]
  },
  {
   "cell_type": "code",
   "execution_count": 5,
   "id": "91c07b50",
   "metadata": {},
   "outputs": [
    {
     "name": "stdout",
     "output_type": "stream",
     "text": [
      "Simplified convolutional neural network\n",
      "Model: \"model\"\n",
      "_________________________________________________________________\n",
      "Layer (type)                 Output Shape              Param #   \n",
      "=================================================================\n",
      "input_1 (InputLayer)         [(None, 18)]              0         \n",
      "_________________________________________________________________\n",
      "embedding (Embedding)        (None, 18, 50)            46480300  \n",
      "_________________________________________________________________\n",
      "conv1d (Conv1D)              (None, 16, 32)            4832      \n",
      "_________________________________________________________________\n",
      "max_pooling1d (MaxPooling1D) (None, 8, 32)             0         \n",
      "_________________________________________________________________\n",
      "conv1d_1 (Conv1D)            (None, 6, 64)             6208      \n",
      "_________________________________________________________________\n",
      "max_pooling1d_1 (MaxPooling1 (None, 3, 64)             0         \n",
      "_________________________________________________________________\n",
      "lstm (LSTM)                  (None, 64)                33024     \n",
      "_________________________________________________________________\n",
      "dense (Dense)                (None, 7)                 455       \n",
      "=================================================================\n",
      "Total params: 46,524,819\n",
      "Trainable params: 44,519\n",
      "Non-trainable params: 46,480,300\n",
      "_________________________________________________________________\n"
     ]
    }
   ],
   "source": [
    "embedding_layer = Embedding(vocab_size, embedding_size, weights=[word2vec.vectors], input_length=max_length, trainable=False)\n",
    "sequence_input = Input(shape=(max_length,), dtype='int32')\n",
    "embedded_sequences = embedding_layer(sequence_input)\n",
    "conv_layer1 = Conv1D(filters=32, kernel_size=3, activation='relu')(embedded_sequences)\n",
    "conv_layer1 = MaxPooling1D(pool_size=2)(conv_layer1)\n",
    "conv_layer2 = Conv1D(filters=64, kernel_size=3, activation='relu')(conv_layer1)\n",
    "conv_layer2 = MaxPooling1D(pool_size=2)(conv_layer2)\n",
    "lstm_layer = LSTM(64)(conv_layer2)\n",
    "output_layer = Dense(7, activation='softmax')(lstm_layer)\n",
    "\n",
    "model = Model(sequence_input, output_layer)\n",
    "model.compile(loss='categorical_crossentropy',\n",
    "              optimizer='rmsprop',\n",
    "              metrics=['acc'])\n",
    "\n",
    "print(\"Simplified convolutional neural network\")\n",
    "model.summary()\n"
   ]
  },
  {
   "cell_type": "code",
   "execution_count": 6,
   "id": "90d38eac",
   "metadata": {},
   "outputs": [],
   "source": [
    "# separar dados em treinamento e validação\n",
    "X_train, X_val, y_train, y_val = train_test_split(X, y, test_size=0.2, random_state=42)\n",
    "y_train = to_categorical(y_train, 7)\n",
    "y_val = to_categorical(y_val, 7)"
   ]
  },
  {
   "cell_type": "code",
   "execution_count": 7,
   "id": "508edf96",
   "metadata": {},
   "outputs": [],
   "source": [
    "early_stopping_monitor = EarlyStopping(\n",
    "    monitor='val_loss',\n",
    "    min_delta=0,\n",
    "    patience=7,\n",
    "    verbose=0,\n",
    "    mode='auto',\n",
    "    baseline=None,\n",
    "    restore_best_weights=True\n",
    ")"
   ]
  },
  {
   "cell_type": "code",
   "execution_count": 8,
   "id": "b84fd728",
   "metadata": {},
   "outputs": [
    {
     "name": "stdout",
     "output_type": "stream",
     "text": [
      "Epoch 1/30\n",
      "26/26 [==============================] - 3s 26ms/step - loss: 1.7975 - acc: 0.3485 - val_loss: 1.4550 - val_acc: 0.5369\n",
      "Epoch 2/30\n",
      "26/26 [==============================] - 0s 4ms/step - loss: 1.0388 - acc: 0.6810 - val_loss: 0.8913 - val_acc: 0.7438\n",
      "Epoch 3/30\n",
      "26/26 [==============================] - 0s 4ms/step - loss: 0.5688 - acc: 0.8510 - val_loss: 0.4945 - val_acc: 0.8768\n",
      "Epoch 4/30\n",
      "26/26 [==============================] - 0s 6ms/step - loss: 0.3418 - acc: 0.9138 - val_loss: 0.4758 - val_acc: 0.8670\n",
      "Epoch 5/30\n",
      "26/26 [==============================] - 0s 5ms/step - loss: 0.2273 - acc: 0.9446 - val_loss: 0.5072 - val_acc: 0.8030\n",
      "Epoch 6/30\n",
      "26/26 [==============================] - 0s 6ms/step - loss: 0.1607 - acc: 0.9594 - val_loss: 0.3417 - val_acc: 0.9064\n",
      "Epoch 7/30\n",
      "26/26 [==============================] - 0s 4ms/step - loss: 0.1335 - acc: 0.9606 - val_loss: 0.2118 - val_acc: 0.9458\n",
      "Epoch 8/30\n",
      "26/26 [==============================] - 0s 4ms/step - loss: 0.0815 - acc: 0.9741 - val_loss: 0.1626 - val_acc: 0.9507\n",
      "Epoch 9/30\n",
      "26/26 [==============================] - 0s 8ms/step - loss: 0.0757 - acc: 0.9754 - val_loss: 0.1657 - val_acc: 0.9409\n",
      "Epoch 10/30\n",
      "26/26 [==============================] - 0s 8ms/step - loss: 0.0586 - acc: 0.9828 - val_loss: 0.1383 - val_acc: 0.9507\n",
      "Epoch 11/30\n",
      "26/26 [==============================] - 0s 7ms/step - loss: 0.0468 - acc: 0.9840 - val_loss: 0.1465 - val_acc: 0.9507\n",
      "Epoch 12/30\n",
      "26/26 [==============================] - 0s 7ms/step - loss: 0.0506 - acc: 0.9852 - val_loss: 0.1597 - val_acc: 0.9507\n",
      "Epoch 13/30\n",
      "26/26 [==============================] - 0s 7ms/step - loss: 0.0291 - acc: 0.9889 - val_loss: 0.1561 - val_acc: 0.9458\n",
      "Epoch 14/30\n",
      "26/26 [==============================] - 0s 4ms/step - loss: 0.0271 - acc: 0.9901 - val_loss: 0.1377 - val_acc: 0.9557\n",
      "Epoch 15/30\n",
      "26/26 [==============================] - 0s 6ms/step - loss: 0.0241 - acc: 0.9951 - val_loss: 0.1959 - val_acc: 0.9310\n",
      "Epoch 16/30\n",
      "26/26 [==============================] - 0s 3ms/step - loss: 0.0245 - acc: 0.9926 - val_loss: 0.1567 - val_acc: 0.9557\n",
      "Epoch 17/30\n",
      "26/26 [==============================] - 0s 7ms/step - loss: 0.0248 - acc: 0.9926 - val_loss: 0.1729 - val_acc: 0.9507\n",
      "Epoch 18/30\n",
      "26/26 [==============================] - 0s 4ms/step - loss: 0.0140 - acc: 0.9963 - val_loss: 0.5085 - val_acc: 0.8670\n",
      "Epoch 19/30\n",
      "26/26 [==============================] - 0s 9ms/step - loss: 0.0116 - acc: 0.9975 - val_loss: 0.1749 - val_acc: 0.9409\n",
      "Epoch 20/30\n",
      "26/26 [==============================] - 0s 5ms/step - loss: 0.0232 - acc: 0.9914 - val_loss: 0.2119 - val_acc: 0.9557\n",
      "Epoch 21/30\n",
      "26/26 [==============================] - 0s 14ms/step - loss: 0.0074 - acc: 0.9975 - val_loss: 0.2295 - val_acc: 0.9409\n"
     ]
    },
    {
     "data": {
      "text/plain": [
       "<keras.callbacks.History at 0x204df14ae88>"
      ]
     },
     "execution_count": 8,
     "metadata": {},
     "output_type": "execute_result"
    }
   ],
   "source": [
    "# treinar modelo\n",
    "model.fit(X_train, y_train, epochs=30, batch_size=32, validation_data=(X_val, y_val), callbacks=[early_stopping_monitor])"
   ]
  }
 ],
 "metadata": {
  "kernelspec": {
   "display_name": "Python 3 (ipykernel)",
   "language": "python",
   "name": "python3"
  },
  "language_info": {
   "codemirror_mode": {
    "name": "ipython",
    "version": 3
   },
   "file_extension": ".py",
   "mimetype": "text/x-python",
   "name": "python",
   "nbconvert_exporter": "python",
   "pygments_lexer": "ipython3",
   "version": "3.7.15"
  }
 },
 "nbformat": 4,
 "nbformat_minor": 5
}
