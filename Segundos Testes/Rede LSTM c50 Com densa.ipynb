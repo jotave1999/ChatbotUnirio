{
 "cells": [
  {
   "cell_type": "code",
   "execution_count": 3,
   "id": "6d5432f4",
   "metadata": {},
   "outputs": [],
   "source": [
    "import re\n",
    "from keras.preprocessing.text import Tokenizer\n",
    "from keras.preprocessing.sequence import pad_sequences\n",
    "from keras.layers import Embedding, LSTM, Dense, Dropout\n",
    "from keras.models import Sequential\n",
    "from gensim.models import KeyedVectors\n",
    "from sklearn.model_selection import train_test_split\n",
    "from keras.utils.np_utils import to_categorical\n",
    "from keras.callbacks import EarlyStopping\n",
    "\n",
    "import numpy as np\n",
    "\n",
    "import pandas as pd\n"
   ]
  },
  {
   "cell_type": "code",
   "execution_count": 4,
   "id": "129910cd",
   "metadata": {},
   "outputs": [],
   "source": [
    "# carregar modelo word2vec\n",
    "word2vec = KeyedVectors.load_word2vec_format('../cbow_s50.txt')\n",
    "vocab_size, embedding_size = word2vec.vectors.shape"
   ]
  },
  {
   "cell_type": "code",
   "execution_count": 5,
   "id": "9862a9cb",
   "metadata": {},
   "outputs": [],
   "source": [
    "# carregar dados de treinamento do CSV\n",
    "df = pd.read_csv('../train.csv', header=None, names=['texto', 'classe'])\n",
    "X = df['texto'].values\n",
    "y = df['classe'].values"
   ]
  },
  {
   "cell_type": "code",
   "execution_count": 6,
   "id": "68ccc686",
   "metadata": {},
   "outputs": [],
   "source": [
    "# tokenizar o texto\n",
    "tokenizer = Tokenizer(num_words=vocab_size)\n",
    "tokenizer.fit_on_texts(X)\n",
    "X = tokenizer.texts_to_sequences(X)\n",
    "\n",
    "# padronizar o tamanho das sequencias\n",
    "max_length = max([len(text) for text in X])\n",
    "X = pad_sequences(X, maxlen=max_length, padding='post')"
   ]
  },
  {
   "cell_type": "code",
   "execution_count": 7,
   "id": "d02324b2",
   "metadata": {},
   "outputs": [],
   "source": [
    "# construir modelo\n",
    "model = Sequential()\n",
    "model.add(Embedding(vocab_size, embedding_size, weights=[word2vec.vectors], input_length=max_length, trainable=False))\n",
    "model.add(LSTM(128, return_sequences=True))\n",
    "model.add(Dropout(0.4))\n",
    "model.add(LSTM(64))\n",
    "model.add(Dropout(0.2))\n",
    "model.add(Dense(64))\n",
    "model.add(Dense(7, activation='softmax'))"
   ]
  },
  {
   "cell_type": "code",
   "execution_count": 8,
   "id": "8409e978",
   "metadata": {},
   "outputs": [],
   "source": [
    "# compilar modelo\n",
    "model.compile(loss='categorical_crossentropy', optimizer='adam', metrics=['accuracy'])"
   ]
  },
  {
   "cell_type": "code",
   "execution_count": 9,
   "id": "df01c2fc",
   "metadata": {},
   "outputs": [],
   "source": [
    "# separar dados em treinamento e validação\n",
    "X_train, X_val, y_train, y_val = train_test_split(X, y, test_size=0.2, random_state=42)\n",
    "y_train = to_categorical(y_train, 7)\n",
    "y_val = to_categorical(y_val, 7)"
   ]
  },
  {
   "cell_type": "code",
   "execution_count": 10,
   "id": "5f62d7a1",
   "metadata": {},
   "outputs": [],
   "source": [
    "early_stopping_monitor = EarlyStopping(\n",
    "    monitor='val_loss',\n",
    "    min_delta=0,\n",
    "    patience=7,\n",
    "    verbose=0,\n",
    "    mode='auto',\n",
    "    baseline=None,\n",
    "    restore_best_weights=True\n",
    ")"
   ]
  },
  {
   "cell_type": "code",
   "execution_count": 11,
   "id": "6e675df9",
   "metadata": {},
   "outputs": [
    {
     "name": "stdout",
     "output_type": "stream",
     "text": [
      "Epoch 1/30\n",
      "26/26 [==============================] - 4s 38ms/step - loss: 1.4323 - accuracy: 0.4766 - val_loss: 0.6302 - val_accuracy: 0.8325\n",
      "Epoch 2/30\n",
      "26/26 [==============================] - 0s 13ms/step - loss: 0.4062 - accuracy: 0.8584 - val_loss: 0.2482 - val_accuracy: 0.9113\n",
      "Epoch 3/30\n",
      "26/26 [==============================] - 0s 13ms/step - loss: 0.1565 - accuracy: 0.9532 - val_loss: 0.1146 - val_accuracy: 0.9655\n",
      "Epoch 4/30\n",
      "26/26 [==============================] - 0s 14ms/step - loss: 0.0653 - accuracy: 0.9815 - val_loss: 0.1745 - val_accuracy: 0.9507\n",
      "Epoch 5/30\n",
      "26/26 [==============================] - 0s 13ms/step - loss: 0.0387 - accuracy: 0.9901 - val_loss: 0.1996 - val_accuracy: 0.9606\n",
      "Epoch 6/30\n",
      "26/26 [==============================] - 0s 16ms/step - loss: 0.0375 - accuracy: 0.9889 - val_loss: 0.0808 - val_accuracy: 0.9803\n",
      "Epoch 7/30\n",
      "26/26 [==============================] - 0s 17ms/step - loss: 0.0147 - accuracy: 0.9975 - val_loss: 0.1075 - val_accuracy: 0.9655\n",
      "Epoch 8/30\n",
      "26/26 [==============================] - 0s 14ms/step - loss: 0.0106 - accuracy: 0.9975 - val_loss: 0.0799 - val_accuracy: 0.9803\n",
      "Epoch 9/30\n",
      "26/26 [==============================] - 0s 13ms/step - loss: 0.0042 - accuracy: 1.0000 - val_loss: 0.1316 - val_accuracy: 0.9754\n",
      "Epoch 10/30\n",
      "26/26 [==============================] - 0s 13ms/step - loss: 0.0083 - accuracy: 0.9988 - val_loss: 0.1001 - val_accuracy: 0.9754\n",
      "Epoch 11/30\n",
      "26/26 [==============================] - 0s 13ms/step - loss: 0.0094 - accuracy: 0.9975 - val_loss: 0.0684 - val_accuracy: 0.9754\n",
      "Epoch 12/30\n",
      "26/26 [==============================] - 0s 12ms/step - loss: 0.0079 - accuracy: 0.9988 - val_loss: 0.0758 - val_accuracy: 0.9754\n",
      "Epoch 13/30\n",
      "26/26 [==============================] - 0s 13ms/step - loss: 0.0079 - accuracy: 0.9963 - val_loss: 0.1010 - val_accuracy: 0.9704\n",
      "Epoch 14/30\n",
      "26/26 [==============================] - 0s 18ms/step - loss: 0.0022 - accuracy: 1.0000 - val_loss: 0.1264 - val_accuracy: 0.9704\n",
      "Epoch 15/30\n",
      "26/26 [==============================] - 1s 20ms/step - loss: 0.0060 - accuracy: 0.9988 - val_loss: 0.1210 - val_accuracy: 0.9704\n",
      "Epoch 16/30\n",
      "26/26 [==============================] - 0s 17ms/step - loss: 0.0092 - accuracy: 0.9988 - val_loss: 0.1367 - val_accuracy: 0.9704\n",
      "Epoch 17/30\n",
      "26/26 [==============================] - 0s 13ms/step - loss: 0.0045 - accuracy: 0.9988 - val_loss: 0.0856 - val_accuracy: 0.9754\n",
      "Epoch 18/30\n",
      "26/26 [==============================] - 1s 21ms/step - loss: 0.0042 - accuracy: 0.9975 - val_loss: 0.0994 - val_accuracy: 0.9704\n"
     ]
    },
    {
     "data": {
      "text/plain": [
       "<keras.callbacks.History at 0x22df9845cc8>"
      ]
     },
     "execution_count": 11,
     "metadata": {},
     "output_type": "execute_result"
    }
   ],
   "source": [
    "# treinar modelo\n",
    "model.fit(X_train, y_train, epochs=30, batch_size=32, validation_data=(X_val, y_val), callbacks=[early_stopping_monitor])"
   ]
  },
  {
   "cell_type": "code",
   "execution_count": null,
   "id": "fc6d6902",
   "metadata": {},
   "outputs": [],
   "source": []
  }
 ],
 "metadata": {
  "kernelspec": {
   "display_name": "Python 3 (ipykernel)",
   "language": "python",
   "name": "python3"
  },
  "language_info": {
   "codemirror_mode": {
    "name": "ipython",
    "version": 3
   },
   "file_extension": ".py",
   "mimetype": "text/x-python",
   "name": "python",
   "nbconvert_exporter": "python",
   "pygments_lexer": "ipython3",
   "version": "3.7.15"
  }
 },
 "nbformat": 4,
 "nbformat_minor": 5
}
