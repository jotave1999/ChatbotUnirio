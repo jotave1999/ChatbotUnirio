{
 "cells": [
  {
   "cell_type": "code",
   "execution_count": 12,
   "id": "6d5432f4",
   "metadata": {},
   "outputs": [],
   "source": [
    "import re\n",
    "from keras.preprocessing.text import Tokenizer\n",
    "from keras.preprocessing.sequence import pad_sequences\n",
    "from keras.layers import Embedding, LSTM, Dense, Dropout\n",
    "from keras.models import Sequential\n",
    "from gensim.models import KeyedVectors\n",
    "from sklearn.model_selection import train_test_split\n",
    "from keras.utils.np_utils import to_categorical\n",
    "from keras.callbacks import EarlyStopping\n",
    "\n",
    "import numpy as np\n",
    "\n",
    "import pandas as pd\n"
   ]
  },
  {
   "cell_type": "code",
   "execution_count": 13,
   "id": "129910cd",
   "metadata": {},
   "outputs": [],
   "source": [
    "# carregar modelo word2vec\n",
    "word2vec = KeyedVectors.load_word2vec_format('../skip_s100.txt')\n",
    "vocab_size, embedding_size = word2vec.vectors.shape"
   ]
  },
  {
   "cell_type": "code",
   "execution_count": 14,
   "id": "9862a9cb",
   "metadata": {},
   "outputs": [],
   "source": [
    "# carregar dados de treinamento do CSV\n",
    "df = pd.read_csv('../train.csv', header=None, names=['texto', 'classe'])\n",
    "X = df['texto'].values\n",
    "y = df['classe'].values"
   ]
  },
  {
   "cell_type": "code",
   "execution_count": 15,
   "id": "68ccc686",
   "metadata": {},
   "outputs": [],
   "source": [
    "# tokenizar o texto\n",
    "tokenizer = Tokenizer(num_words=vocab_size)\n",
    "tokenizer.fit_on_texts(X)\n",
    "X = tokenizer.texts_to_sequences(X)\n",
    "\n",
    "# padronizar o tamanho das sequencias\n",
    "max_length = max([len(text) for text in X])\n",
    "X = pad_sequences(X, maxlen=max_length, padding='post')"
   ]
  },
  {
   "cell_type": "code",
   "execution_count": 16,
   "id": "d02324b2",
   "metadata": {},
   "outputs": [],
   "source": [
    "# construir modelo\n",
    "model = Sequential()\n",
    "model.add(Embedding(vocab_size, embedding_size, weights=[word2vec.vectors], input_length=max_length, trainable=False))\n",
    "model.add(LSTM(128, return_sequences=True))\n",
    "model.add(Dropout(0.2))\n",
    "model.add(LSTM(64))\n",
    "model.add(Dropout(0.2))\n",
    "model.add(Dense(64))\n",
    "model.add(Dense(7, activation='softmax'))"
   ]
  },
  {
   "cell_type": "code",
   "execution_count": 17,
   "id": "8409e978",
   "metadata": {},
   "outputs": [],
   "source": [
    "# compilar modelo\n",
    "model.compile(loss='categorical_crossentropy', optimizer='adam', metrics=['accuracy'])"
   ]
  },
  {
   "cell_type": "code",
   "execution_count": 18,
   "id": "df01c2fc",
   "metadata": {},
   "outputs": [],
   "source": [
    "# separar dados em treinamento e validação\n",
    "X_train, X_val, y_train, y_val = train_test_split(X, y, test_size=0.2, random_state=42)\n",
    "y_train = to_categorical(y_train, 7)\n",
    "y_val = to_categorical(y_val, 7)"
   ]
  },
  {
   "cell_type": "code",
   "execution_count": 19,
   "id": "39f9b884",
   "metadata": {},
   "outputs": [],
   "source": [
    "early_stopping_monitor = EarlyStopping(\n",
    "    monitor='val_loss',\n",
    "    min_delta=0,\n",
    "    patience=7,\n",
    "    verbose=0,\n",
    "    mode='auto',\n",
    "    baseline=None,\n",
    "    restore_best_weights=True\n",
    ")"
   ]
  },
  {
   "cell_type": "code",
   "execution_count": 20,
   "id": "6e675df9",
   "metadata": {},
   "outputs": [
    {
     "name": "stdout",
     "output_type": "stream",
     "text": [
      "Epoch 1/30\n",
      "26/26 [==============================] - 5s 41ms/step - loss: 1.5433 - accuracy: 0.5530 - val_loss: 0.7936 - val_accuracy: 0.7291\n",
      "Epoch 2/30\n",
      "26/26 [==============================] - 0s 12ms/step - loss: 0.5157 - accuracy: 0.8116 - val_loss: 0.3575 - val_accuracy: 0.8966\n",
      "Epoch 3/30\n",
      "26/26 [==============================] - 0s 12ms/step - loss: 0.2707 - accuracy: 0.9138 - val_loss: 0.3263 - val_accuracy: 0.8768\n",
      "Epoch 4/30\n",
      "26/26 [==============================] - 0s 12ms/step - loss: 0.1705 - accuracy: 0.9470 - val_loss: 0.2411 - val_accuracy: 0.9310\n",
      "Epoch 5/30\n",
      "26/26 [==============================] - 0s 12ms/step - loss: 0.1199 - accuracy: 0.9667 - val_loss: 0.2447 - val_accuracy: 0.9360\n",
      "Epoch 6/30\n",
      "26/26 [==============================] - 0s 12ms/step - loss: 0.1323 - accuracy: 0.9667 - val_loss: 0.2801 - val_accuracy: 0.9409\n",
      "Epoch 7/30\n",
      "26/26 [==============================] - 0s 12ms/step - loss: 0.0696 - accuracy: 0.9840 - val_loss: 0.2251 - val_accuracy: 0.9360\n",
      "Epoch 8/30\n",
      "26/26 [==============================] - 0s 12ms/step - loss: 0.1073 - accuracy: 0.9729 - val_loss: 0.2936 - val_accuracy: 0.9163\n",
      "Epoch 9/30\n",
      "26/26 [==============================] - 0s 12ms/step - loss: 0.0530 - accuracy: 0.9865 - val_loss: 0.1982 - val_accuracy: 0.9310\n",
      "Epoch 10/30\n",
      "26/26 [==============================] - 0s 12ms/step - loss: 0.0316 - accuracy: 0.9901 - val_loss: 0.2168 - val_accuracy: 0.9507\n",
      "Epoch 11/30\n",
      "26/26 [==============================] - 0s 12ms/step - loss: 0.0541 - accuracy: 0.9840 - val_loss: 0.2613 - val_accuracy: 0.9261\n",
      "Epoch 12/30\n",
      "26/26 [==============================] - 0s 12ms/step - loss: 0.0337 - accuracy: 0.9901 - val_loss: 0.2006 - val_accuracy: 0.9360\n",
      "Epoch 13/30\n",
      "26/26 [==============================] - 0s 12ms/step - loss: 0.0204 - accuracy: 0.9963 - val_loss: 0.2241 - val_accuracy: 0.9261\n",
      "Epoch 14/30\n",
      "26/26 [==============================] - 0s 12ms/step - loss: 0.0158 - accuracy: 0.9938 - val_loss: 0.2073 - val_accuracy: 0.9458\n",
      "Epoch 15/30\n",
      "26/26 [==============================] - 0s 12ms/step - loss: 0.0128 - accuracy: 0.9963 - val_loss: 0.1805 - val_accuracy: 0.9557\n",
      "Epoch 16/30\n",
      "26/26 [==============================] - 0s 12ms/step - loss: 0.0105 - accuracy: 0.9975 - val_loss: 0.2605 - val_accuracy: 0.9409\n",
      "Epoch 17/30\n",
      "26/26 [==============================] - 0s 12ms/step - loss: 0.0080 - accuracy: 0.9988 - val_loss: 0.2121 - val_accuracy: 0.9557\n",
      "Epoch 18/30\n",
      "26/26 [==============================] - 0s 12ms/step - loss: 0.0387 - accuracy: 0.9865 - val_loss: 0.2810 - val_accuracy: 0.9261\n",
      "Epoch 19/30\n",
      "26/26 [==============================] - 0s 12ms/step - loss: 0.0224 - accuracy: 0.9938 - val_loss: 0.2515 - val_accuracy: 0.9507\n",
      "Epoch 20/30\n",
      "26/26 [==============================] - 0s 12ms/step - loss: 0.0104 - accuracy: 0.9963 - val_loss: 0.2730 - val_accuracy: 0.9507\n",
      "Epoch 21/30\n",
      "26/26 [==============================] - 0s 12ms/step - loss: 0.0757 - accuracy: 0.9840 - val_loss: 0.1821 - val_accuracy: 0.9655\n",
      "Epoch 22/30\n",
      "26/26 [==============================] - 0s 12ms/step - loss: 0.1463 - accuracy: 0.9594 - val_loss: 0.2979 - val_accuracy: 0.9163\n"
     ]
    },
    {
     "data": {
      "text/plain": [
       "<keras.callbacks.History at 0x23260de36c8>"
      ]
     },
     "execution_count": 20,
     "metadata": {},
     "output_type": "execute_result"
    }
   ],
   "source": [
    "# treinar modelo\n",
    "model.fit(X_train, y_train, epochs=30, batch_size=32, validation_data=(X_val, y_val), callbacks=[early_stopping_monitor])"
   ]
  },
  {
   "cell_type": "code",
   "execution_count": null,
   "id": "fc6d6902",
   "metadata": {},
   "outputs": [],
   "source": []
  }
 ],
 "metadata": {
  "kernelspec": {
   "display_name": "Python 3 (ipykernel)",
   "language": "python",
   "name": "python3"
  },
  "language_info": {
   "codemirror_mode": {
    "name": "ipython",
    "version": 3
   },
   "file_extension": ".py",
   "mimetype": "text/x-python",
   "name": "python",
   "nbconvert_exporter": "python",
   "pygments_lexer": "ipython3",
   "version": "3.7.15"
  }
 },
 "nbformat": 4,
 "nbformat_minor": 5
}
