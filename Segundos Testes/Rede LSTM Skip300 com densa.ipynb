{
 "cells": [
  {
   "cell_type": "code",
   "execution_count": 1,
   "id": "6d5432f4",
   "metadata": {},
   "outputs": [],
   "source": [
    "import re\n",
    "from keras.preprocessing.text import Tokenizer\n",
    "from keras.preprocessing.sequence import pad_sequences\n",
    "from keras.layers import Embedding, LSTM, Dense, Dropout\n",
    "from keras.models import Sequential\n",
    "from gensim.models import KeyedVectors\n",
    "from sklearn.model_selection import train_test_split\n",
    "from keras.utils.np_utils import to_categorical\n",
    "from keras.callbacks import EarlyStopping\n",
    "\n",
    "import numpy as np\n",
    "\n",
    "import pandas as pd\n"
   ]
  },
  {
   "cell_type": "code",
   "execution_count": 2,
   "id": "129910cd",
   "metadata": {},
   "outputs": [],
   "source": [
    "# carregar modelo word2vec\n",
    "word2vec = KeyedVectors.load_word2vec_format('../skip_s300.txt')\n",
    "vocab_size, embedding_size = word2vec.vectors.shape"
   ]
  },
  {
   "cell_type": "code",
   "execution_count": 3,
   "id": "9862a9cb",
   "metadata": {},
   "outputs": [],
   "source": [
    "# carregar dados de treinamento do CSV\n",
    "df = pd.read_csv('../train.csv', header=None, names=['texto', 'classe'])\n",
    "X = df['texto'].values\n",
    "y = df['classe'].values"
   ]
  },
  {
   "cell_type": "code",
   "execution_count": 4,
   "id": "68ccc686",
   "metadata": {},
   "outputs": [],
   "source": [
    "# tokenizar o texto\n",
    "tokenizer = Tokenizer(num_words=vocab_size)\n",
    "tokenizer.fit_on_texts(X)\n",
    "X = tokenizer.texts_to_sequences(X)\n",
    "\n",
    "# padronizar o tamanho das sequencias\n",
    "max_length = max([len(text) for text in X])\n",
    "X = pad_sequences(X, maxlen=max_length, padding='post')"
   ]
  },
  {
   "cell_type": "code",
   "execution_count": 5,
   "id": "d02324b2",
   "metadata": {},
   "outputs": [],
   "source": [
    "# construir modelo\n",
    "model = Sequential()\n",
    "model.add(Embedding(vocab_size, embedding_size, weights=[word2vec.vectors], input_length=max_length, trainable=False))\n",
    "model.add(LSTM(128, return_sequences=True))\n",
    "model.add(Dropout(0.2))\n",
    "model.add(LSTM(64))\n",
    "model.add(Dropout(0.2))\n",
    "model.add(Dense(64))\n",
    "model.add(Dense(7, activation='softmax'))"
   ]
  },
  {
   "cell_type": "code",
   "execution_count": 6,
   "id": "8409e978",
   "metadata": {},
   "outputs": [],
   "source": [
    "# compilar modelo\n",
    "model.compile(loss='categorical_crossentropy', optimizer='adam', metrics=['accuracy'])"
   ]
  },
  {
   "cell_type": "code",
   "execution_count": 7,
   "id": "df01c2fc",
   "metadata": {},
   "outputs": [],
   "source": [
    "# separar dados em treinamento e validação\n",
    "X_train, X_val, y_train, y_val = train_test_split(X, y, test_size=0.2, random_state=42)\n",
    "y_train = to_categorical(y_train, 7)\n",
    "y_val = to_categorical(y_val, 7)"
   ]
  },
  {
   "cell_type": "code",
   "execution_count": 8,
   "id": "39f9b884",
   "metadata": {},
   "outputs": [],
   "source": [
    "early_stopping_monitor = EarlyStopping(\n",
    "    monitor='val_loss',\n",
    "    min_delta=0,\n",
    "    patience=7,\n",
    "    verbose=0,\n",
    "    mode='auto',\n",
    "    baseline=None,\n",
    "    restore_best_weights=True\n",
    ")"
   ]
  },
  {
   "cell_type": "code",
   "execution_count": 9,
   "id": "6e675df9",
   "metadata": {},
   "outputs": [
    {
     "name": "stdout",
     "output_type": "stream",
     "text": [
      "Epoch 1/30\n",
      "26/26 [==============================] - 4s 36ms/step - loss: 1.4337 - accuracy: 0.5062 - val_loss: 0.6089 - val_accuracy: 0.7833\n",
      "Epoch 2/30\n",
      "26/26 [==============================] - 0s 14ms/step - loss: 0.4010 - accuracy: 0.8473 - val_loss: 0.3111 - val_accuracy: 0.9113\n",
      "Epoch 3/30\n",
      "26/26 [==============================] - 0s 14ms/step - loss: 0.1507 - accuracy: 0.9544 - val_loss: 0.2089 - val_accuracy: 0.9310\n",
      "Epoch 4/30\n",
      "26/26 [==============================] - 0s 15ms/step - loss: 0.1483 - accuracy: 0.9618 - val_loss: 0.1534 - val_accuracy: 0.9507\n",
      "Epoch 5/30\n",
      "26/26 [==============================] - 0s 14ms/step - loss: 0.0614 - accuracy: 0.9828 - val_loss: 0.0927 - val_accuracy: 0.9754\n",
      "Epoch 6/30\n",
      "26/26 [==============================] - 0s 14ms/step - loss: 0.0628 - accuracy: 0.9852 - val_loss: 0.0642 - val_accuracy: 0.9803\n",
      "Epoch 7/30\n",
      "26/26 [==============================] - 0s 13ms/step - loss: 0.0359 - accuracy: 0.9877 - val_loss: 0.1078 - val_accuracy: 0.9606\n",
      "Epoch 8/30\n",
      "26/26 [==============================] - 0s 14ms/step - loss: 0.0330 - accuracy: 0.9938 - val_loss: 0.1500 - val_accuracy: 0.9507\n",
      "Epoch 9/30\n",
      "26/26 [==============================] - 0s 14ms/step - loss: 0.0216 - accuracy: 0.9951 - val_loss: 0.1128 - val_accuracy: 0.9704\n",
      "Epoch 10/30\n",
      "26/26 [==============================] - 0s 14ms/step - loss: 0.0362 - accuracy: 0.9901 - val_loss: 0.1219 - val_accuracy: 0.9557\n",
      "Epoch 11/30\n",
      "26/26 [==============================] - 0s 15ms/step - loss: 0.0176 - accuracy: 0.9951 - val_loss: 0.0839 - val_accuracy: 0.9803\n",
      "Epoch 12/30\n",
      "26/26 [==============================] - 0s 14ms/step - loss: 0.0243 - accuracy: 0.9889 - val_loss: 0.1717 - val_accuracy: 0.9557\n",
      "Epoch 13/30\n",
      "26/26 [==============================] - 0s 14ms/step - loss: 0.0227 - accuracy: 0.9914 - val_loss: 0.1914 - val_accuracy: 0.9557\n"
     ]
    },
    {
     "data": {
      "text/plain": [
       "<keras.callbacks.History at 0x1db8fb70488>"
      ]
     },
     "execution_count": 9,
     "metadata": {},
     "output_type": "execute_result"
    }
   ],
   "source": [
    "# treinar modelo\n",
    "model.fit(X_train, y_train, epochs=30, batch_size=32, validation_data=(X_val, y_val), callbacks=[early_stopping_monitor])"
   ]
  },
  {
   "cell_type": "code",
   "execution_count": null,
   "id": "fc6d6902",
   "metadata": {},
   "outputs": [],
   "source": []
  }
 ],
 "metadata": {
  "kernelspec": {
   "display_name": "Python 3 (ipykernel)",
   "language": "python",
   "name": "python3"
  },
  "language_info": {
   "codemirror_mode": {
    "name": "ipython",
    "version": 3
   },
   "file_extension": ".py",
   "mimetype": "text/x-python",
   "name": "python",
   "nbconvert_exporter": "python",
   "pygments_lexer": "ipython3",
   "version": "3.7.15"
  }
 },
 "nbformat": 4,
 "nbformat_minor": 5
}
