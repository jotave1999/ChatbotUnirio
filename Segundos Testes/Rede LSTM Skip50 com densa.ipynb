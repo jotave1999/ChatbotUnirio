{
 "cells": [
  {
   "cell_type": "code",
   "execution_count": 1,
   "id": "6d5432f4",
   "metadata": {},
   "outputs": [],
   "source": [
    "import re\n",
    "from keras.preprocessing.text import Tokenizer\n",
    "from keras.preprocessing.sequence import pad_sequences\n",
    "from keras.layers import Embedding, LSTM, Dense, Dropout\n",
    "from keras.models import Sequential\n",
    "from gensim.models import KeyedVectors\n",
    "from sklearn.model_selection import train_test_split\n",
    "from keras.utils.np_utils import to_categorical\n",
    "from keras.callbacks import EarlyStopping\n",
    "\n",
    "import numpy as np\n",
    "\n",
    "import pandas as pd\n"
   ]
  },
  {
   "cell_type": "code",
   "execution_count": 2,
   "id": "129910cd",
   "metadata": {},
   "outputs": [],
   "source": [
    "# carregar modelo word2vec\n",
    "word2vec = KeyedVectors.load_word2vec_format('../skip_s50.txt')\n",
    "vocab_size, embedding_size = word2vec.vectors.shape"
   ]
  },
  {
   "cell_type": "code",
   "execution_count": 3,
   "id": "9862a9cb",
   "metadata": {},
   "outputs": [],
   "source": [
    "# carregar dados de treinamento do CSV\n",
    "df = pd.read_csv('../train.csv', header=None, names=['texto', 'classe'])\n",
    "X = df['texto'].values\n",
    "y = df['classe'].values"
   ]
  },
  {
   "cell_type": "code",
   "execution_count": 4,
   "id": "68ccc686",
   "metadata": {},
   "outputs": [],
   "source": [
    "# tokenizar o texto\n",
    "tokenizer = Tokenizer(num_words=vocab_size)\n",
    "tokenizer.fit_on_texts(X)\n",
    "X = tokenizer.texts_to_sequences(X)\n",
    "\n",
    "# padronizar o tamanho das sequencias\n",
    "max_length = max([len(text) for text in X])\n",
    "X = pad_sequences(X, maxlen=max_length, padding='post')"
   ]
  },
  {
   "cell_type": "code",
   "execution_count": 5,
   "id": "d02324b2",
   "metadata": {},
   "outputs": [],
   "source": [
    "# construir modelo\n",
    "model = Sequential()\n",
    "model.add(Embedding(vocab_size, embedding_size, weights=[word2vec.vectors], input_length=max_length, trainable=False))\n",
    "model.add(LSTM(128, return_sequences=True))\n",
    "model.add(Dropout(0.2))\n",
    "model.add(LSTM(64))\n",
    "model.add(Dropout(0.2))\n",
    "model.add(Dense(64))\n",
    "model.add(Dense(7, activation='softmax'))"
   ]
  },
  {
   "cell_type": "code",
   "execution_count": 6,
   "id": "8409e978",
   "metadata": {},
   "outputs": [],
   "source": [
    "# compilar modelo\n",
    "model.compile(loss='categorical_crossentropy', optimizer='adam', metrics=['accuracy'])"
   ]
  },
  {
   "cell_type": "code",
   "execution_count": 7,
   "id": "df01c2fc",
   "metadata": {},
   "outputs": [],
   "source": [
    "# separar dados em treinamento e validação\n",
    "X_train, X_val, y_train, y_val = train_test_split(X, y, test_size=0.2, random_state=42)\n",
    "y_train = to_categorical(y_train, 7)\n",
    "y_val = to_categorical(y_val, 7)"
   ]
  },
  {
   "cell_type": "code",
   "execution_count": 8,
   "id": "0bb4500d",
   "metadata": {},
   "outputs": [],
   "source": [
    "early_stopping_monitor = EarlyStopping(\n",
    "    monitor='val_loss',\n",
    "    min_delta=0,\n",
    "    patience=7,\n",
    "    verbose=0,\n",
    "    mode='auto',\n",
    "    baseline=None,\n",
    "    restore_best_weights=True\n",
    ")"
   ]
  },
  {
   "cell_type": "code",
   "execution_count": 9,
   "id": "6e675df9",
   "metadata": {},
   "outputs": [
    {
     "name": "stdout",
     "output_type": "stream",
     "text": [
      "Epoch 1/30\n",
      "26/26 [==============================] - 4s 38ms/step - loss: 1.6112 - accuracy: 0.3879 - val_loss: 1.1048 - val_accuracy: 0.5665\n",
      "Epoch 2/30\n",
      "26/26 [==============================] - 0s 12ms/step - loss: 0.8218 - accuracy: 0.6416 - val_loss: 0.6446 - val_accuracy: 0.8030\n",
      "Epoch 3/30\n",
      "26/26 [==============================] - 0s 14ms/step - loss: 0.4460 - accuracy: 0.8005 - val_loss: 0.4116 - val_accuracy: 0.8473\n",
      "Epoch 4/30\n",
      "26/26 [==============================] - 1s 39ms/step - loss: 0.2975 - accuracy: 0.8461 - val_loss: 0.3490 - val_accuracy: 0.8818\n",
      "Epoch 5/30\n",
      "26/26 [==============================] - 1s 24ms/step - loss: 0.2584 - accuracy: 0.8929 - val_loss: 0.2815 - val_accuracy: 0.8916\n",
      "Epoch 6/30\n",
      "26/26 [==============================] - 0s 15ms/step - loss: 0.2094 - accuracy: 0.9249 - val_loss: 0.2644 - val_accuracy: 0.9310\n",
      "Epoch 7/30\n",
      "26/26 [==============================] - 0s 15ms/step - loss: 0.2014 - accuracy: 0.9310 - val_loss: 0.2955 - val_accuracy: 0.9261\n",
      "Epoch 8/30\n",
      "26/26 [==============================] - 0s 15ms/step - loss: 0.1278 - accuracy: 0.9594 - val_loss: 0.2335 - val_accuracy: 0.9113\n",
      "Epoch 9/30\n",
      "26/26 [==============================] - 0s 15ms/step - loss: 0.0892 - accuracy: 0.9741 - val_loss: 0.1985 - val_accuracy: 0.9261\n",
      "Epoch 10/30\n",
      "26/26 [==============================] - 0s 15ms/step - loss: 0.0676 - accuracy: 0.9791 - val_loss: 0.1842 - val_accuracy: 0.9360\n",
      "Epoch 11/30\n",
      "26/26 [==============================] - 0s 12ms/step - loss: 0.0591 - accuracy: 0.9828 - val_loss: 0.1646 - val_accuracy: 0.9507\n",
      "Epoch 12/30\n",
      "26/26 [==============================] - 0s 13ms/step - loss: 0.0396 - accuracy: 0.9951 - val_loss: 0.1809 - val_accuracy: 0.9507\n",
      "Epoch 13/30\n",
      "26/26 [==============================] - 1s 20ms/step - loss: 0.0942 - accuracy: 0.9754 - val_loss: 0.2174 - val_accuracy: 0.9409\n",
      "Epoch 14/30\n",
      "26/26 [==============================] - 0s 16ms/step - loss: 0.0572 - accuracy: 0.9840 - val_loss: 0.1835 - val_accuracy: 0.9557\n",
      "Epoch 15/30\n",
      "26/26 [==============================] - 0s 13ms/step - loss: 0.0281 - accuracy: 0.9951 - val_loss: 0.1177 - val_accuracy: 0.9704\n",
      "Epoch 16/30\n",
      "26/26 [==============================] - 0s 12ms/step - loss: 0.0838 - accuracy: 0.9754 - val_loss: 0.2432 - val_accuracy: 0.9310\n",
      "Epoch 17/30\n",
      "26/26 [==============================] - 0s 13ms/step - loss: 0.1518 - accuracy: 0.9557 - val_loss: 0.2000 - val_accuracy: 0.9557\n",
      "Epoch 18/30\n",
      "26/26 [==============================] - 0s 13ms/step - loss: 0.0526 - accuracy: 0.9865 - val_loss: 0.0873 - val_accuracy: 0.9803\n",
      "Epoch 19/30\n",
      "26/26 [==============================] - 0s 13ms/step - loss: 0.0337 - accuracy: 0.9914 - val_loss: 0.1608 - val_accuracy: 0.9655\n",
      "Epoch 20/30\n",
      "26/26 [==============================] - 0s 15ms/step - loss: 0.0235 - accuracy: 0.9938 - val_loss: 0.1135 - val_accuracy: 0.9803\n",
      "Epoch 21/30\n",
      "26/26 [==============================] - 0s 14ms/step - loss: 0.0155 - accuracy: 0.9963 - val_loss: 0.1574 - val_accuracy: 0.9655\n",
      "Epoch 22/30\n",
      "26/26 [==============================] - 0s 15ms/step - loss: 0.0111 - accuracy: 0.9975 - val_loss: 0.0921 - val_accuracy: 0.9803\n",
      "Epoch 23/30\n",
      "26/26 [==============================] - 0s 15ms/step - loss: 0.0059 - accuracy: 0.9975 - val_loss: 0.1559 - val_accuracy: 0.9655\n",
      "Epoch 24/30\n",
      "26/26 [==============================] - 0s 16ms/step - loss: 0.0074 - accuracy: 0.9988 - val_loss: 0.1280 - val_accuracy: 0.9704\n",
      "Epoch 25/30\n",
      "26/26 [==============================] - 0s 14ms/step - loss: 0.0155 - accuracy: 0.9938 - val_loss: 0.2011 - val_accuracy: 0.9655\n"
     ]
    },
    {
     "data": {
      "text/plain": [
       "<keras.callbacks.History at 0x2329bccb088>"
      ]
     },
     "execution_count": 9,
     "metadata": {},
     "output_type": "execute_result"
    }
   ],
   "source": [
    "# treinar modelo\n",
    "model.fit(X_train, y_train, epochs=30, batch_size=32, validation_data=(X_val, y_val), callbacks=[early_stopping_monitor])"
   ]
  },
  {
   "cell_type": "code",
   "execution_count": null,
   "id": "fc6d6902",
   "metadata": {},
   "outputs": [],
   "source": []
  }
 ],
 "metadata": {
  "kernelspec": {
   "display_name": "Python 3 (ipykernel)",
   "language": "python",
   "name": "python3"
  },
  "language_info": {
   "codemirror_mode": {
    "name": "ipython",
    "version": 3
   },
   "file_extension": ".py",
   "mimetype": "text/x-python",
   "name": "python",
   "nbconvert_exporter": "python",
   "pygments_lexer": "ipython3",
   "version": "3.7.15"
  }
 },
 "nbformat": 4,
 "nbformat_minor": 5
}
