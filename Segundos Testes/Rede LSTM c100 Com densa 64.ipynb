{
 "cells": [
  {
   "cell_type": "code",
   "execution_count": 6,
   "id": "6d5432f4",
   "metadata": {},
   "outputs": [],
   "source": [
    "import re\n",
    "from keras.preprocessing.text import Tokenizer\n",
    "from keras.preprocessing.sequence import pad_sequences\n",
    "from keras.layers import Embedding, LSTM, Dense, Dropout\n",
    "from keras.models import Sequential\n",
    "from gensim.models import KeyedVectors\n",
    "from sklearn.model_selection import train_test_split\n",
    "from keras.utils.np_utils import to_categorical\n",
    "from keras.callbacks import EarlyStopping\n",
    "\n",
    "import numpy as np\n",
    "\n",
    "import pandas as pd\n"
   ]
  },
  {
   "cell_type": "code",
   "execution_count": 7,
   "id": "129910cd",
   "metadata": {},
   "outputs": [],
   "source": [
    "# carregar modelo word2vec\n",
    "word2vec = KeyedVectors.load_word2vec_format('../cbow_s100.txt')\n",
    "vocab_size, embedding_size = word2vec.vectors.shape"
   ]
  },
  {
   "cell_type": "code",
   "execution_count": 8,
   "id": "9862a9cb",
   "metadata": {},
   "outputs": [],
   "source": [
    "# carregar dados de treinamento do CSV\n",
    "df = pd.read_csv('../train.csv', header=None, names=['texto', 'classe'])\n",
    "X = df['texto'].values\n",
    "y = df['classe'].values"
   ]
  },
  {
   "cell_type": "code",
   "execution_count": 9,
   "id": "68ccc686",
   "metadata": {},
   "outputs": [],
   "source": [
    "# tokenizar o texto\n",
    "tokenizer = Tokenizer(num_words=vocab_size)\n",
    "tokenizer.fit_on_texts(X)\n",
    "X = tokenizer.texts_to_sequences(X)\n",
    "\n",
    "# padronizar o tamanho das sequencias\n",
    "max_length = max([len(text) for text in X])\n",
    "X = pad_sequences(X, maxlen=max_length, padding='post')"
   ]
  },
  {
   "cell_type": "code",
   "execution_count": 36,
   "id": "d02324b2",
   "metadata": {},
   "outputs": [],
   "source": [
    "# construir modelo\n",
    "model = Sequential()\n",
    "model.add(Embedding(vocab_size, embedding_size, weights=[word2vec.vectors], input_length=max_length, trainable=False))\n",
    "model.add(LSTM(128, return_sequences=True))\n",
    "model.add(Dropout(0.2))\n",
    "model.add(LSTM(64))\n",
    "model.add(Dropout(0.2))\n",
    "model.add(Dense(64))\n",
    "model.add(Dense(7, activation='softmax'))"
   ]
  },
  {
   "cell_type": "code",
   "execution_count": 37,
   "id": "8409e978",
   "metadata": {},
   "outputs": [],
   "source": [
    "# compilar modelo\n",
    "model.compile(loss='categorical_crossentropy', optimizer='adam', metrics=['accuracy'])"
   ]
  },
  {
   "cell_type": "code",
   "execution_count": 38,
   "id": "df01c2fc",
   "metadata": {},
   "outputs": [],
   "source": [
    "# separar dados em treinamento e validação\n",
    "X_train, X_val, y_train, y_val = train_test_split(X, y, test_size=0.2, random_state=42)\n",
    "y_train = to_categorical(y_train, 7)\n",
    "y_val = to_categorical(y_val, 7)"
   ]
  },
  {
   "cell_type": "code",
   "execution_count": 39,
   "id": "99b026ec",
   "metadata": {},
   "outputs": [],
   "source": [
    "early_stopping_monitor = EarlyStopping(\n",
    "    monitor='val_loss',\n",
    "    min_delta=0,\n",
    "    patience=7,\n",
    "    verbose=0,\n",
    "    mode='auto',\n",
    "    baseline=None,\n",
    "    restore_best_weights=True\n",
    ")"
   ]
  },
  {
   "cell_type": "code",
   "execution_count": 40,
   "id": "6e675df9",
   "metadata": {},
   "outputs": [
    {
     "name": "stdout",
     "output_type": "stream",
     "text": [
      "Epoch 1/30\n",
      "26/26 [==============================] - 3s 36ms/step - loss: 1.5059 - accuracy: 0.4495 - val_loss: 0.9178 - val_accuracy: 0.6355\n",
      "Epoch 2/30\n",
      "26/26 [==============================] - 0s 13ms/step - loss: 0.5285 - accuracy: 0.8325 - val_loss: 0.2541 - val_accuracy: 0.9360\n",
      "Epoch 3/30\n",
      "26/26 [==============================] - 0s 12ms/step - loss: 0.1706 - accuracy: 0.9606 - val_loss: 0.2072 - val_accuracy: 0.9507\n",
      "Epoch 4/30\n",
      "26/26 [==============================] - 0s 12ms/step - loss: 0.1535 - accuracy: 0.9507 - val_loss: 0.2135 - val_accuracy: 0.9409\n",
      "Epoch 5/30\n",
      "26/26 [==============================] - 0s 13ms/step - loss: 0.0879 - accuracy: 0.9766 - val_loss: 0.2194 - val_accuracy: 0.9360\n",
      "Epoch 6/30\n",
      "26/26 [==============================] - 0s 12ms/step - loss: 0.0762 - accuracy: 0.9803 - val_loss: 0.2646 - val_accuracy: 0.9360\n",
      "Epoch 7/30\n",
      "26/26 [==============================] - 0s 12ms/step - loss: 0.0501 - accuracy: 0.9877 - val_loss: 0.2054 - val_accuracy: 0.9557\n",
      "Epoch 8/30\n",
      "26/26 [==============================] - 0s 12ms/step - loss: 0.0924 - accuracy: 0.9729 - val_loss: 0.4002 - val_accuracy: 0.9163\n",
      "Epoch 9/30\n",
      "26/26 [==============================] - 0s 13ms/step - loss: 0.1307 - accuracy: 0.9692 - val_loss: 0.2516 - val_accuracy: 0.9360\n",
      "Epoch 10/30\n",
      "26/26 [==============================] - 0s 13ms/step - loss: 0.0987 - accuracy: 0.9766 - val_loss: 0.2552 - val_accuracy: 0.9606\n",
      "Epoch 11/30\n",
      "26/26 [==============================] - 0s 12ms/step - loss: 0.0455 - accuracy: 0.9901 - val_loss: 0.1855 - val_accuracy: 0.9606\n",
      "Epoch 12/30\n",
      "26/26 [==============================] - 0s 12ms/step - loss: 0.0167 - accuracy: 0.9963 - val_loss: 0.1839 - val_accuracy: 0.9557\n",
      "Epoch 13/30\n",
      "26/26 [==============================] - 0s 12ms/step - loss: 0.0155 - accuracy: 0.9951 - val_loss: 0.1807 - val_accuracy: 0.9606\n",
      "Epoch 14/30\n",
      "26/26 [==============================] - 0s 13ms/step - loss: 0.0090 - accuracy: 0.9975 - val_loss: 0.2339 - val_accuracy: 0.9557\n",
      "Epoch 15/30\n",
      "26/26 [==============================] - 0s 13ms/step - loss: 0.0322 - accuracy: 0.9938 - val_loss: 0.2103 - val_accuracy: 0.9655\n",
      "Epoch 16/30\n",
      "26/26 [==============================] - 0s 13ms/step - loss: 0.0143 - accuracy: 0.9951 - val_loss: 0.2227 - val_accuracy: 0.9655\n",
      "Epoch 17/30\n",
      "26/26 [==============================] - 0s 12ms/step - loss: 0.0124 - accuracy: 0.9963 - val_loss: 0.1985 - val_accuracy: 0.9557\n",
      "Epoch 18/30\n",
      "26/26 [==============================] - 0s 13ms/step - loss: 0.0150 - accuracy: 0.9938 - val_loss: 0.1864 - val_accuracy: 0.9557\n",
      "Epoch 19/30\n",
      "26/26 [==============================] - 0s 12ms/step - loss: 0.0057 - accuracy: 0.9988 - val_loss: 0.1671 - val_accuracy: 0.9507\n",
      "Epoch 20/30\n",
      "26/26 [==============================] - 0s 12ms/step - loss: 0.0062 - accuracy: 0.9988 - val_loss: 0.1732 - val_accuracy: 0.9557\n",
      "Epoch 21/30\n",
      "26/26 [==============================] - 0s 12ms/step - loss: 0.0040 - accuracy: 1.0000 - val_loss: 0.1988 - val_accuracy: 0.9507\n",
      "Epoch 22/30\n",
      "26/26 [==============================] - 0s 13ms/step - loss: 0.0051 - accuracy: 0.9975 - val_loss: 0.2084 - val_accuracy: 0.9507\n",
      "Epoch 23/30\n",
      "26/26 [==============================] - 0s 12ms/step - loss: 0.0025 - accuracy: 1.0000 - val_loss: 0.2191 - val_accuracy: 0.9507\n",
      "Epoch 24/30\n",
      "26/26 [==============================] - 0s 12ms/step - loss: 0.0034 - accuracy: 0.9988 - val_loss: 0.2329 - val_accuracy: 0.9507\n",
      "Epoch 25/30\n",
      "26/26 [==============================] - 0s 13ms/step - loss: 0.0029 - accuracy: 0.9988 - val_loss: 0.2424 - val_accuracy: 0.9507\n",
      "Epoch 26/30\n",
      "26/26 [==============================] - 0s 14ms/step - loss: 0.0036 - accuracy: 0.9975 - val_loss: 0.2571 - val_accuracy: 0.9507\n"
     ]
    },
    {
     "data": {
      "text/plain": [
       "<keras.callbacks.History at 0x2082d0f7848>"
      ]
     },
     "execution_count": 40,
     "metadata": {},
     "output_type": "execute_result"
    }
   ],
   "source": [
    "# treinar modelo\n",
    "model.fit(X_train, y_train, epochs=30, batch_size=32, validation_data=(X_val, y_val), callbacks=[early_stopping_monitor])"
   ]
  },
  {
   "cell_type": "code",
   "execution_count": null,
   "id": "fc6d6902",
   "metadata": {},
   "outputs": [],
   "source": []
  }
 ],
 "metadata": {
  "kernelspec": {
   "display_name": "Python 3 (ipykernel)",
   "language": "python",
   "name": "python3"
  },
  "language_info": {
   "codemirror_mode": {
    "name": "ipython",
    "version": 3
   },
   "file_extension": ".py",
   "mimetype": "text/x-python",
   "name": "python",
   "nbconvert_exporter": "python",
   "pygments_lexer": "ipython3",
   "version": "3.7.15"
  }
 },
 "nbformat": 4,
 "nbformat_minor": 5
}
